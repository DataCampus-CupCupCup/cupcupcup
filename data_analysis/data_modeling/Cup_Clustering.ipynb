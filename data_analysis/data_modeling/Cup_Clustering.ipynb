{
 "cells": [
  {
   "cell_type": "code",
   "execution_count": 1,
   "metadata": {},
   "outputs": [],
   "source": [
    "import pandas as pd\n",
    "import matplotlib\n",
    "import matplotlib.pyplot as plt\n",
    "from matplotlib import style\n",
    "import numpy as np\n",
    "from sklearn.cluster import KMeans\n",
    "from sklearn.cluster import AgglomerativeClustering\n",
    "from sklearn.cluster import DBSCAN\n",
    "import seaborn as sns"
   ]
  },
  {
   "cell_type": "code",
   "execution_count": 5,
   "metadata": {},
   "outputs": [],
   "source": [
    "df = pd.read_csv('./cup_loc2.csv', encoding='EUC-KR')"
   ]
  },
  {
   "cell_type": "code",
   "execution_count": 8,
   "metadata": {
    "scrolled": true
   },
   "outputs": [],
   "source": [
    "# lat, long만 추출\n",
    "df2 = df[['lat','long']]"
   ]
  },
  {
   "cell_type": "markdown",
   "metadata": {},
   "source": [
    "# Kmeans"
   ]
  },
  {
   "cell_type": "code",
   "execution_count": 9,
   "metadata": {},
   "outputs": [],
   "source": [
    "data_points = df2.values"
   ]
  },
  {
   "cell_type": "code",
   "execution_count": 10,
   "metadata": {},
   "outputs": [],
   "source": [
    "# Kmeans Clustering 8개로 군집화\n",
    "kmeans = KMeans(n_clusters=4).fit(data_points)"
   ]
  },
  {
   "cell_type": "code",
   "execution_count": 11,
   "metadata": {},
   "outputs": [
    {
     "data": {
      "text/plain": [
       "array([1, 1, 1, 1, 0, 0, 0, 0, 0, 0, 0, 0, 0, 0, 0, 0, 0, 0, 0, 0, 0, 3,\n",
       "       3, 3, 3, 3, 3, 3, 3, 0, 3, 3, 0, 2, 2, 0, 2, 2, 2, 2, 0, 0, 2, 2,\n",
       "       1, 1, 0, 1, 0, 0, 0, 0, 0, 1, 0, 0, 2, 2, 2, 2, 2, 2, 2, 2, 1, 2,\n",
       "       1, 1, 2, 2, 1, 1, 1, 1, 1, 1, 1, 1, 1, 1, 1, 1, 3, 2, 0, 3, 3, 0,\n",
       "       0, 2, 1, 1, 0, 2, 1, 1, 2, 2, 2, 2, 2, 2, 1, 0, 0, 0, 0, 0, 2, 0,\n",
       "       0, 0, 2, 0, 0, 0, 0, 0, 3, 3, 2, 0, 1, 2, 3], dtype=int32)"
      ]
     },
     "execution_count": 11,
     "metadata": {},
     "output_type": "execute_result"
    }
   ],
   "source": [
    "kmeans.labels_"
   ]
  },
  {
   "cell_type": "code",
   "execution_count": 14,
   "metadata": {},
   "outputs": [
    {
     "name": "stderr",
     "output_type": "stream",
     "text": [
      "<ipython-input-14-c1bfb4e202b8>:2: SettingWithCopyWarning: \n",
      "A value is trying to be set on a copy of a slice from a DataFrame.\n",
      "Try using .loc[row_indexer,col_indexer] = value instead\n",
      "\n",
      "See the caveats in the documentation: https://pandas.pydata.org/pandas-docs/stable/user_guide/indexing.html#returning-a-view-versus-a-copy\n",
      "  df2['clust_km'] = kmeans.labels_\n"
     ]
    }
   ],
   "source": [
    "# 8개로 군집화된 결과(라벨)를 데이터 프레임에 열로 추가\n",
    "df2['clust_km'] = kmeans.labels_"
   ]
  },
  {
   "cell_type": "code",
   "execution_count": 15,
   "metadata": {
    "scrolled": true
   },
   "outputs": [
    {
     "data": {
      "text/plain": [
       "Text(0.5, 1.0, 'kmeans plot ver2')"
      ]
     },
     "execution_count": 15,
     "metadata": {},
     "output_type": "execute_result"
    },
    {
     "data": {
      "image/png": "[encoded data removed]",
      "text/plain": [
       "<Figure size 412.25x360 with 1 Axes>"
      ]
     },
     "metadata": {
      "needs_background": "light"
     },
     "output_type": "display_data"
    }
   ],
   "source": [
    "# Data point 시각화\n",
    "sns.lmplot('lat', 'long', data=df2, fit_reg = False,\n",
    "          scatter_kws={\"s\":50}\n",
    "          ,hue = \"clust_km\")\n",
    "plt.title('kmeans plot ver2')"
   ]
  },
  {
   "cell_type": "code",
   "execution_count": 18,
   "metadata": {
    "collapsed": true
   },
   "outputs": [
    {
     "data": {
      "text/html": [
       "<div>\n",
       "<style scoped>\n",
       "    .dataframe tbody tr th:only-of-type {\n",
       "        vertical-align: middle;\n",
       "    }\n",
       "\n",
       "    .dataframe tbody tr th {\n",
       "        vertical-align: top;\n",
       "    }\n",
       "\n",
       "    .dataframe thead th {\n",
       "        text-align: right;\n",
       "    }\n",
       "</style>\n",
       "<table border=\"1\" class=\"dataframe\">\n",
       "  <thead>\n",
       "    <tr style=\"text-align: right;\">\n",
       "      <th></th>\n",
       "      <th>lat</th>\n",
       "      <th>long</th>\n",
       "      <th>clust_km</th>\n",
       "    </tr>\n",
       "  </thead>\n",
       "  <tbody>\n",
       "    <tr>\n",
       "      <th>0</th>\n",
       "      <td>37.517438</td>\n",
       "      <td>127.018928</td>\n",
       "      <td>1</td>\n",
       "    </tr>\n",
       "    <tr>\n",
       "      <th>1</th>\n",
       "      <td>37.515609</td>\n",
       "      <td>127.019459</td>\n",
       "      <td>1</td>\n",
       "    </tr>\n",
       "    <tr>\n",
       "      <th>2</th>\n",
       "      <td>37.515450</td>\n",
       "      <td>127.019466</td>\n",
       "      <td>1</td>\n",
       "    </tr>\n",
       "    <tr>\n",
       "      <th>3</th>\n",
       "      <td>37.512486</td>\n",
       "      <td>127.020051</td>\n",
       "      <td>1</td>\n",
       "    </tr>\n",
       "    <tr>\n",
       "      <th>4</th>\n",
       "      <td>37.507056</td>\n",
       "      <td>127.023017</td>\n",
       "      <td>0</td>\n",
       "    </tr>\n",
       "    <tr>\n",
       "      <th>...</th>\n",
       "      <td>...</td>\n",
       "      <td>...</td>\n",
       "      <td>...</td>\n",
       "    </tr>\n",
       "    <tr>\n",
       "      <th>120</th>\n",
       "      <td>37.489119</td>\n",
       "      <td>127.004633</td>\n",
       "      <td>2</td>\n",
       "    </tr>\n",
       "    <tr>\n",
       "      <th>121</th>\n",
       "      <td>37.491618</td>\n",
       "      <td>127.025263</td>\n",
       "      <td>0</td>\n",
       "    </tr>\n",
       "    <tr>\n",
       "      <th>122</th>\n",
       "      <td>37.502692</td>\n",
       "      <td>127.012402</td>\n",
       "      <td>1</td>\n",
       "    </tr>\n",
       "    <tr>\n",
       "      <th>123</th>\n",
       "      <td>37.473900</td>\n",
       "      <td>126.982200</td>\n",
       "      <td>2</td>\n",
       "    </tr>\n",
       "    <tr>\n",
       "      <th>124</th>\n",
       "      <td>37.460059</td>\n",
       "      <td>127.026261</td>\n",
       "      <td>3</td>\n",
       "    </tr>\n",
       "  </tbody>\n",
       "</table>\n",
       "<p>125 rows × 3 columns</p>\n",
       "</div>"
      ],
      "text/plain": [
       "           lat        long  clust_km\n",
       "0    37.517438  127.018928         1\n",
       "1    37.515609  127.019459         1\n",
       "2    37.515450  127.019466         1\n",
       "3    37.512486  127.020051         1\n",
       "4    37.507056  127.023017         0\n",
       "..         ...         ...       ...\n",
       "120  37.489119  127.004633         2\n",
       "121  37.491618  127.025263         0\n",
       "122  37.502692  127.012402         1\n",
       "123  37.473900  126.982200         2\n",
       "124  37.460059  127.026261         3\n",
       "\n",
       "[125 rows x 3 columns]"
      ]
     },
     "execution_count": 18,
     "metadata": {},
     "output_type": "execute_result"
    }
   ],
   "source": [
    "df2"
   ]
  },
  {
   "cell_type": "markdown",
   "metadata": {},
   "source": [
    "# DBSCAN"
   ]
  },
  {
   "cell_type": "code",
   "execution_count": 19,
   "metadata": {},
   "outputs": [
    {
     "name": "stderr",
     "output_type": "stream",
     "text": [
      "<ipython-input-19-f505de7f3f5f>:7: SettingWithCopyWarning: \n",
      "A value is trying to be set on a copy of a slice from a DataFrame.\n",
      "Try using .loc[row_indexer,col_indexer] = value instead\n",
      "\n",
      "See the caveats in the documentation: https://pandas.pydata.org/pandas-docs/stable/user_guide/indexing.html#returning-a-view-versus-a-copy\n",
      "  df2[\"scaled_lat\"] = scaled_X[:,0]\n"
     ]
    }
   ],
   "source": [
    "#표준화(평균=0, 분산=1)\n",
    "from sklearn.preprocessing import StandardScaler\n",
    "scale = StandardScaler()\n",
    "scale.fit(df2[[\"lat\", \"long\"]])\n",
    "scaled_X = scale.transform(df2[[\"lat\", \"long\"]])\n",
    "\n",
    "df2[\"scaled_lat\"] = scaled_X[:,0]\n",
    "df2[\"scaled_long\"] = scaled_X[:,1]"
   ]
  },
  {
   "cell_type": "code",
   "execution_count": 20,
   "metadata": {},
   "outputs": [],
   "source": [
    "# DBSCAN \n",
    "# eps: 이웃을 정의하기 위한 거리. epsilon.\n",
    "# min_samples: 핵심 데이터를 정의하기 위해 필요한 이웃영역안의 데이터 갯수.\n",
    "dbscan = DBSCAN(eps=0.5, min_samples=8)\n",
    "clust_db = dbscan.fit_predict(scaled_X)\n",
    "df2['clust_db'] = clust_db"
   ]
  },
  {
   "cell_type": "code",
   "execution_count": 21,
   "metadata": {},
   "outputs": [
    {
     "data": {
      "text/plain": [
       "Text(0, 0.5, 'long')"
      ]
     },
     "execution_count": 21,
     "metadata": {},
     "output_type": "execute_result"
    },
    {
     "data": {
      "image/png": "[encoded data removed]",
      "text/plain": [
       "<Figure size 432x288 with 1 Axes>"
      ]
     },
     "metadata": {
      "needs_background": "light"
     },
     "output_type": "display_data"
    }
   ],
   "source": [
    "#clustering 결과 확인\n",
    "plt.scatter(x=df2.lat, y=df2.long, c=df2.clust_db)\n",
    "plt.xlabel(\"lat\")\n",
    "plt.ylabel(\"long\")"
   ]
  },
  {
   "cell_type": "code",
   "execution_count": 23,
   "metadata": {},
   "outputs": [
    {
     "data": {
      "text/html": [
       "<div>\n",
       "<style scoped>\n",
       "    .dataframe tbody tr th:only-of-type {\n",
       "        vertical-align: middle;\n",
       "    }\n",
       "\n",
       "    .dataframe tbody tr th {\n",
       "        vertical-align: top;\n",
       "    }\n",
       "\n",
       "    .dataframe thead th {\n",
       "        text-align: right;\n",
       "    }\n",
       "</style>\n",
       "<table border=\"1\" class=\"dataframe\">\n",
       "  <thead>\n",
       "    <tr style=\"text-align: right;\">\n",
       "      <th></th>\n",
       "      <th>loc</th>\n",
       "      <th>lat</th>\n",
       "      <th>long</th>\n",
       "      <th>type</th>\n",
       "      <th>loc2</th>\n",
       "      <th>clust_km</th>\n",
       "      <th>clust_db</th>\n",
       "    </tr>\n",
       "  </thead>\n",
       "  <tbody>\n",
       "    <tr>\n",
       "      <th>0</th>\n",
       "      <td>강남대로 623 연세미소치과의원</td>\n",
       "      <td>37.517438</td>\n",
       "      <td>127.018928</td>\n",
       "      <td>CB</td>\n",
       "      <td>NaN</td>\n",
       "      <td>1</td>\n",
       "      <td>-1</td>\n",
       "    </tr>\n",
       "    <tr>\n",
       "      <th>1</th>\n",
       "      <td>신사역 4번출구 횡단보도</td>\n",
       "      <td>37.515609</td>\n",
       "      <td>127.019459</td>\n",
       "      <td>CB</td>\n",
       "      <td>subway</td>\n",
       "      <td>1</td>\n",
       "      <td>2</td>\n",
       "    </tr>\n",
       "    <tr>\n",
       "      <th>2</th>\n",
       "      <td>신사역 4번 출구 버스정류장</td>\n",
       "      <td>37.515450</td>\n",
       "      <td>127.019466</td>\n",
       "      <td>CB</td>\n",
       "      <td>bus</td>\n",
       "      <td>1</td>\n",
       "      <td>2</td>\n",
       "    </tr>\n",
       "    <tr>\n",
       "      <th>3</th>\n",
       "      <td>강남대로 567 대도식당</td>\n",
       "      <td>37.512486</td>\n",
       "      <td>127.020051</td>\n",
       "      <td>CB</td>\n",
       "      <td>NaN</td>\n",
       "      <td>1</td>\n",
       "      <td>0</td>\n",
       "    </tr>\n",
       "    <tr>\n",
       "      <th>4</th>\n",
       "      <td>강남대로 505 고도일병원</td>\n",
       "      <td>37.507056</td>\n",
       "      <td>127.023017</td>\n",
       "      <td>CB</td>\n",
       "      <td>NaN</td>\n",
       "      <td>0</td>\n",
       "      <td>0</td>\n",
       "    </tr>\n",
       "    <tr>\n",
       "      <th>...</th>\n",
       "      <td>...</td>\n",
       "      <td>...</td>\n",
       "      <td>...</td>\n",
       "      <td>...</td>\n",
       "      <td>...</td>\n",
       "      <td>...</td>\n",
       "      <td>...</td>\n",
       "    </tr>\n",
       "    <tr>\n",
       "      <th>120</th>\n",
       "      <td>명달로 134 버스정류장</td>\n",
       "      <td>37.489119</td>\n",
       "      <td>127.004633</td>\n",
       "      <td>CB</td>\n",
       "      <td>bus</td>\n",
       "      <td>2</td>\n",
       "      <td>1</td>\n",
       "    </tr>\n",
       "    <tr>\n",
       "      <th>121</th>\n",
       "      <td>사임당로 143 버스정류장</td>\n",
       "      <td>37.491618</td>\n",
       "      <td>127.025263</td>\n",
       "      <td>CB</td>\n",
       "      <td>bus</td>\n",
       "      <td>0</td>\n",
       "      <td>0</td>\n",
       "    </tr>\n",
       "    <tr>\n",
       "      <th>122</th>\n",
       "      <td>반포구립도서관 앞 버스정류장</td>\n",
       "      <td>37.502692</td>\n",
       "      <td>127.012402</td>\n",
       "      <td>CB</td>\n",
       "      <td>bus</td>\n",
       "      <td>1</td>\n",
       "      <td>2</td>\n",
       "    </tr>\n",
       "    <tr>\n",
       "      <th>123</th>\n",
       "      <td>방배우성아파트 버스정류장</td>\n",
       "      <td>37.473900</td>\n",
       "      <td>126.982200</td>\n",
       "      <td>CB</td>\n",
       "      <td>bus</td>\n",
       "      <td>2</td>\n",
       "      <td>-1</td>\n",
       "    </tr>\n",
       "    <tr>\n",
       "      <th>124</th>\n",
       "      <td>양재대로 54 서초참요양병원 앞 버스정류장</td>\n",
       "      <td>37.460059</td>\n",
       "      <td>127.026261</td>\n",
       "      <td>CB</td>\n",
       "      <td>bus</td>\n",
       "      <td>3</td>\n",
       "      <td>-1</td>\n",
       "    </tr>\n",
       "  </tbody>\n",
       "</table>\n",
       "<p>125 rows × 7 columns</p>\n",
       "</div>"
      ],
      "text/plain": [
       "                          loc        lat        long type    loc2  clust_km  \\\n",
       "0          강남대로 623 연세미소치과의원   37.517438  127.018928   CB     NaN         1   \n",
       "1              신사역 4번출구 횡단보도   37.515609  127.019459   CB  subway         1   \n",
       "2             신사역 4번 출구 버스정류장  37.515450  127.019466   CB     bus         1   \n",
       "3               강남대로 567 대도식당  37.512486  127.020051   CB     NaN         1   \n",
       "4             강남대로 505 고도일병원   37.507056  127.023017   CB     NaN         0   \n",
       "..                        ...        ...         ...  ...     ...       ...   \n",
       "120            명달로 134 버스정류장   37.489119  127.004633   CB     bus         2   \n",
       "121           사임당로 143 버스정류장   37.491618  127.025263   CB     bus         0   \n",
       "122           반포구립도서관 앞 버스정류장  37.502692  127.012402   CB     bus         1   \n",
       "123            방배우성아파트 버스정류장   37.473900  126.982200   CB     bus         2   \n",
       "124  양재대로 54 서초참요양병원 앞 버스정류장   37.460059  127.026261   CB     bus         3   \n",
       "\n",
       "     clust_db  \n",
       "0          -1  \n",
       "1           2  \n",
       "2           2  \n",
       "3           0  \n",
       "4           0  \n",
       "..        ...  \n",
       "120         1  \n",
       "121         0  \n",
       "122         2  \n",
       "123        -1  \n",
       "124        -1  \n",
       "\n",
       "[125 rows x 7 columns]"
      ]
     },
     "execution_count": 23,
     "metadata": {},
     "output_type": "execute_result"
    }
   ],
   "source": [
    "# df['clust_db'] = df2['clust_db']\n",
    "df['clust_km'] = df2['clust_km']\n",
    "df['clust_db'] = df2['clust_db']\n",
    "df"
   ]
  },
  {
   "cell_type": "code",
   "execution_count": 66,
   "metadata": {},
   "outputs": [],
   "source": []
  },
  {
   "cell_type": "code",
   "execution_count": null,
   "metadata": {},
   "outputs": [],
   "source": []
  }
 ],
 "metadata": {
  "kernelspec": {
   "display_name": "Python 3",
   "language": "python",
   "name": "python3"
  },
  "language_info": {
   "codemirror_mode": {
    "name": "ipython",
    "version": 3
   },
   "file_extension": ".py",
   "mimetype": "text/x-python",
   "name": "python",
   "nbconvert_exporter": "python",
   "pygments_lexer": "ipython3",
   "version": "3.8.3"
  }
 },
 "nbformat": 4,
 "nbformat_minor": 4
}
